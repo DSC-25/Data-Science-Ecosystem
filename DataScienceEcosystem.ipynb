{
 "cells": [
  {
   "cell_type": "markdown",
   "id": "9a4a6b93-516c-448b-9997-7172a4cda946",
   "metadata": {},
   "source": [
    "# Data Science Tools and Ecosystem"
   ]
  },
  {
   "cell_type": "markdown",
   "id": "a1fe5653-a11e-41d8-8751-9d33427ed8dc",
   "metadata": {},
   "source": [
    "In this notebook, Data Science Tools and Ecosystem are summarized."
   ]
  },
  {
   "cell_type": "markdown",
   "id": "c22b04a9-c982-4dc7-b56b-e241c80bd682",
   "metadata": {},
   "source": [
    "**Objectives**\n",
    "\n",
    "* List Popular Data Scientists Languages\n",
    "\n",
    "* List Commonly Used Libraries by Data Scientists\n",
    "\n",
    "* List Some Data Science Tools\n",
    "\n",
    "* Evaluating Arithmetic Expressions"
   ]
  },
  {
   "cell_type": "markdown",
   "id": "7bcd5f2b-83b1-4515-891b-43fc2fce4dc8",
   "metadata": {},
   "source": [
    "Some of the popular languages that Data Scientists use are:\n",
    "\n",
    "1. Python\n",
    "\n",
    "2. R\n",
    "\n",
    "3. SQL"
   ]
  },
  {
   "cell_type": "markdown",
   "id": "9005c6e0-c4df-4939-824c-4d058a9dffb3",
   "metadata": {},
   "source": [
    "Some of the commonly used libraries used by Data Scientists include:\n",
    "\n",
    "1. Pandas\n",
    "\n",
    "2. NumPy\n",
    "\n",
    "3. Matplotlib\n",
    "\n",
    "4. Seaborn"
   ]
  },
  {
   "cell_type": "markdown",
   "id": "f976961b-0728-427a-a8a6-a0f744b9238c",
   "metadata": {},
   "source": [
    "| Data Science Tools |\n",
    "|---|\n",
    "| MySQL |\n",
    "| MongoDB |\n",
    "|Apache CouchDB |"
   ]
  },
  {
   "cell_type": "markdown",
   "id": "44b3ed1e-eb45-414f-8988-ff206c2aa7ec",
   "metadata": {},
   "source": [
    "### Below are a few examples of evaluating arithmetic expressions in Python"
   ]
  },
  {
   "cell_type": "markdown",
   "id": "d0832cc8-dfa0-42c8-8116-c0405c1f2898",
   "metadata": {},
   "source": [
    " This a simple arithmetic expression to mutiply then add integers:"
   ]
  },
  {
   "cell_type": "code",
   "execution_count": 21,
   "id": "988bae17-cb43-409f-8b0b-930bf6c81285",
   "metadata": {},
   "outputs": [
    {
     "data": {
      "text/plain": [
       "17"
      ]
     },
     "execution_count": 21,
     "metadata": {},
     "output_type": "execute_result"
    }
   ],
   "source": [
    "(3*4)+5"
   ]
  },
  {
   "cell_type": "markdown",
   "id": "06c77e62-f0fa-4fef-b0bb-352fddcab0f1",
   "metadata": {},
   "source": [
    "This will convert 200 minutes to hours by diving by 60"
   ]
  },
  {
   "cell_type": "code",
   "execution_count": 24,
   "id": "0f66e754-2de8-4192-9dab-77e666aede0d",
   "metadata": {},
   "outputs": [
    {
     "data": {
      "text/plain": [
       "3.3333333333333335"
      ]
     },
     "execution_count": 24,
     "metadata": {},
     "output_type": "execute_result"
    }
   ],
   "source": [
    "(200/60)"
   ]
  },
  {
   "cell_type": "markdown",
   "id": "b2555900-2064-41cb-99f5-1d1f1ff52213",
   "metadata": {},
   "source": [
    "## Author ##\n",
    "Darryl Cash"
   ]
  },
  {
   "cell_type": "code",
   "execution_count": null,
   "id": "e8091a9f-77db-4132-81ef-93c43bf4ee93",
   "metadata": {},
   "outputs": [],
   "source": []
  }
 ],
 "metadata": {
  "kernelspec": {
   "display_name": "Python 3 (ipykernel)",
   "language": "python",
   "name": "python3"
  },
  "language_info": {
   "codemirror_mode": {
    "name": "ipython",
    "version": 3
   },
   "file_extension": ".py",
   "mimetype": "text/x-python",
   "name": "python",
   "nbconvert_exporter": "python",
   "pygments_lexer": "ipython3",
   "version": "3.12.4"
  }
 },
 "nbformat": 4,
 "nbformat_minor": 5
}
